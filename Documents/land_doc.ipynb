{
 "cells": [
  {
   "cell_type": "markdown",
   "metadata": {},
   "source": [
    "## Documentación de la clase Land\n",
    "\n",
    "Con esta clase definimos nuestra \"tierra\" o el mapa, esta consta de **características** y **dependencias**."
   ]
  },
  {
   "cell_type": "code",
   "execution_count": 20,
   "metadata": {},
   "outputs": [
    {
     "data": {
      "text/plain": [
       "({}, [])"
      ]
     },
     "execution_count": 20,
     "metadata": {},
     "output_type": "execute_result"
    }
   ],
   "source": [
    "import os\n",
    "from sys import path\n",
    "path.append(os.path.abspath(os.path.join('',os.pardir)))\n",
    "from land import Land\n",
    "\n",
    "terreno = Land()\n",
    "\n",
    "(terreno.characteristic, terreno.characteristic_dependences)"
   ]
  },
  {
   "cell_type": "markdown",
   "metadata": {},
   "source": [
    "### Características\n",
    "Un terreno posee una lista de **características** propias como pueden ser recursos actuales, capacidad, fertilidad, temperatura, altura, etc. \n",
    "\n",
    "La misma es representada como una diccionario y se puede interactuar con ella usando los métodos *Change_Characteristic* el que recibe como entrada el nombre de la característica y su valor, si existe la modifica sino se agrega, y el método *Delete_Characteristic* que recibe de entrada el nombre de la característica que quieres borrar y la elimina. Las características pueden tomar valor numérico o rangos."
   ]
  },
  {
   "cell_type": "code",
   "execution_count": 21,
   "metadata": {},
   "outputs": [
    {
     "data": {
      "text/plain": [
       "{'actual_resources': 500, 'fertility': [25, 60], 'temperature': 25}"
      ]
     },
     "execution_count": 21,
     "metadata": {},
     "output_type": "execute_result"
    }
   ],
   "source": [
    "terreno.Change_Characteristic('actual_resources', 500)\n",
    "terreno.Change_Characteristic('fertility', 3)\n",
    "terreno.Delete_Characteristic('fertility')\n",
    "terreno.Change_Characteristic('fertility', [2,8])\n",
    "terreno.Change_Characteristic('fertility', [25,60])\n",
    "terreno.Change_Characteristic('temperature', 25)\n",
    "    \n",
    "terreno.characteristic"
   ]
  },
  {
   "cell_type": "markdown",
   "metadata": {},
   "source": [
    "### Dependences\n",
    "\n",
    "Un terreno puede además poseer **dependencias** entre las características para expresar por ejemplo como influye la natalidad en la población al pasar un día, o como influye el avance médico en la esperanza de vida\n",
    "Estas dependencias son representadas con una lista de listas.\n",
    "\n",
    "Cada dependencia es una lista de 3 elementos: característica a, característica b, c. \n",
    "Al pasar un dia se dice que ocurre **a -> b * c**, que se traduce a: *b += a * c* \n",
    "Si entre las características hay una que tiene de valor un rango entonces se haya random un valor dentro del rango\n",
    "\n",
    "Para el manejo de las dependencias se implemento tres métodos: *Add_Dependences* que recibe de entrada (a,b,c) y añade la dependencia a la lista, *Change_Dependences_Value* que recibe de entrada (a,b,c) y cambia el valor de c de una dependencia definida con anterioridad, *Delete_Dependences* que recibe de entrada (a,b) y elimina la dependencia de la lista"
   ]
  },
  {
   "cell_type": "code",
   "execution_count": 22,
   "metadata": {},
   "outputs": [
    {
     "data": {
      "text/plain": [
       "[['temperature', 'fertility', -0.15],\n",
       " ['actual_resources', 'actual_resources', 0.05],\n",
       " ['fertility', 'actual_resources', 5.5]]"
      ]
     },
     "execution_count": 22,
     "metadata": {},
     "output_type": "execute_result"
    }
   ],
   "source": [
    "terreno.Add_Dependences('temperature', 'fertility', 3)\n",
    "terreno.Add_Dependences('actual_resources', 'actual_resources', 0.05)\n",
    "terreno.Add_Dependences('fertility', 'actual_resources', 5.5)\n",
    "terreno.Add_Dependences('actual_resources', 'fertility', 0.001)\n",
    "terreno.Change_Dependences_Value('temperature', 'fertility', -0.15)\n",
    "terreno.Delete_Dependences('actual_resources', 'fertility')\n",
    "\n",
    "terreno.characteristic_dependences"
   ]
  },
  {
   "cell_type": "markdown",
   "metadata": {},
   "source": [
    "### Simulación de un día\n",
    "\n",
    "Para esto existe un método llamado *Move_One_Day* que no recibe argumentos, simula un día de acuerdo a las incidencias de las **dependencias** en las **características**."
   ]
  },
  {
   "cell_type": "code",
   "execution_count": 23,
   "metadata": {},
   "outputs": [
    {
     "data": {
      "text/plain": [
       "[{'actual_resources': 500, 'fertility': [25, 60], 'temperature': 25},\n",
       " {'actual_resources': 679.0, 'fertility': [21.25, 56.25], 'temperature': 25},\n",
       " {'actual_resources': 943.95, 'fertility': [17.5, 52.5], 'temperature': 25},\n",
       " {'actual_resources': 1073.6475,\n",
       "  'fertility': [13.75, 48.75],\n",
       "  'temperature': 25},\n",
       " {'actual_resources': 1187.8298750000001,\n",
       "  'fertility': [10.0, 45.0],\n",
       "  'temperature': 25},\n",
       " {'actual_resources': 1379.2213687500002,\n",
       "  'fertility': [6.25, 41.25],\n",
       "  'temperature': 25},\n",
       " {'actual_resources': 1618.6824371875002,\n",
       "  'fertility': [2.5, 37.5],\n",
       "  'temperature': 25},\n",
       " {'actual_resources': 1809.6165590468752,\n",
       "  'fertility': [-1.25, 33.75],\n",
       "  'temperature': 25},\n",
       " {'actual_resources': 1993.597386999219,\n",
       "  'fertility': [-5.0, 30.0],\n",
       "  'temperature': 25},\n",
       " {'actual_resources': 2203.27725634918,\n",
       "  'fertility': [-8.75, 26.25],\n",
       "  'temperature': 25},\n",
       " {'actual_resources': 2318.941119166639,\n",
       "  'fertility': [-12.5, 22.5],\n",
       "  'temperature': 25}]"
      ]
     },
     "execution_count": 23,
     "metadata": {},
     "output_type": "execute_result"
    }
   ],
   "source": [
    "time_line = [terreno.characteristic.copy()]\n",
    "for i in range(10):\n",
    "    # Avanza un día la simulación\n",
    "    terreno.Move_One_Day()\n",
    "    time_line.append(terreno.characteristic.copy())\n",
    "    \n",
    "time_line"
   ]
  }
 ],
 "metadata": {
  "interpreter": {
   "hash": "fa374e4d9ba4cee2b0da1db792c0633773744d6f7f88819242cc38b688473821"
  },
  "kernelspec": {
   "display_name": "Python 3.7.4 64-bit ('base': conda)",
   "language": "python",
   "name": "python3"
  },
  "language_info": {
   "codemirror_mode": {
    "name": "ipython",
    "version": 3
   },
   "file_extension": ".py",
   "mimetype": "text/x-python",
   "name": "python",
   "nbconvert_exporter": "python",
   "pygments_lexer": "ipython3",
   "version": "3.7.4"
  },
  "orig_nbformat": 4
 },
 "nbformat": 4,
 "nbformat_minor": 2
}
