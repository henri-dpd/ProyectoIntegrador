{
 "cells": [
  {
   "cell_type": "markdown",
   "metadata": {},
   "source": [
    "## Documentación de la clase Land\n",
    "\n",
    "Con esta clase definimos nuestra \"tierra\", esta consta de **sociedades**, **características**, **dependencias** e **influencias**."
   ]
  },
  {
   "cell_type": "code",
   "execution_count": 1,
   "metadata": {},
   "outputs": [
    {
     "data": {
      "text/plain": [
       "({'': <Simulation.land.Land at 0x22ddca82e00>}, {}, [])"
      ]
     },
     "execution_count": 1,
     "metadata": {},
     "output_type": "execute_result"
    }
   ],
   "source": [
    "import os\n",
    "from sys import path\n",
    "path.append(os.path.abspath(os.path.join('',os.pardir)))\n",
    "from Simulation.land import Land\n",
    "from Simulation.species import Species\n",
    "\n",
    "terreno = Land([0,0])\n",
    "\n",
    "(terreno.entities, terreno.characteristic, terreno.characteristic_dependences)"
   ]
  },
  {
   "cell_type": "markdown",
   "metadata": {},
   "source": [
    "### 1. Sociedades\n",
    "En un terreno puede habitar varias sociedades de disímiles especies, estas son guardadas en un diccionario **entities** con llaves string del nombre de la sociedad(ejemplo \"cubanos\") y el valor la instancia de la sociedad.\n",
    "\n",
    "Estas sociedades se pueden gestionar con los métodos:\n",
    "* **Add_Society**\n",
    "* **Delete_Society**\n"
   ]
  },
  {
   "cell_type": "code",
   "execution_count": 2,
   "metadata": {},
   "outputs": [
    {
     "data": {
      "text/plain": [
       "{'': <Simulation.land.Land at 0x22ddca82e00>,\n",
       " 'cubano': <Simulation.society.Society at 0x22ddca81960>,\n",
       " 'español': <Simulation.society.Society at 0x22ddc9dce50>}"
      ]
     },
     "execution_count": 2,
     "metadata": {},
     "output_type": "execute_result"
    }
   ],
   "source": [
    "#Add Society tiene por entrada el nombre de la sociedad y la especie\n",
    "humanidad = Species(\"Humano\")\n",
    "terreno.Add_Society(\"cubano\", humanidad)\n",
    "terreno.Add_Society(\"ruso\", humanidad)\n",
    "terreno.Add_Society(\"español\", humanidad)\n",
    "#Delete society recibe solo el nombre de la especie \n",
    "terreno.Delete_Society(\"ruso\")\n",
    "\n",
    "terreno.entities"
   ]
  },
  {
   "cell_type": "markdown",
   "metadata": {},
   "source": [
    "#### diccionario entities\n",
    "\n",
    "*Además es válido aclarar que el diccionario **entities** guarda como primer elemento al mismo terreno, por una cuestión de comodidad a la hora de trabajar con las dependencias que podía afectar a la misma land o a las sociedades.*\n",
    "\n",
    "Adicionalmente se trabaja con este diccionario entitites con las funciones\n",
    "* **Get_Entities_Characteristic_value**\n",
    "* **Change_Entities_Characteristic**\n",
    "* **Update_Entities_Characteristic**\n",
    "* **Delete_Entities_Characteristic**\n",
    "* **Set_Default_Entities_Characteristic**\n",
    "\n",
    "Que cada uno de estos métidos llama a ejecutar una función en la entidad que le pasen por argumento, por supuesto como land y sociedades tienen un método del mismo nombre entonces solo basta llamar a este método sin necesiadad de validar con que clase estamos trabajando.\n"
   ]
  },
  {
   "cell_type": "markdown",
   "metadata": {},
   "source": [
    "### 2. Características\n",
    "Un terreno posee una lista de **características** propias como pueden ser recursos actuales, capacidad, fertilidad, temperatura, altura, etc. \n",
    "\n",
    "La misma es una instancia de la clase characteristic y se puede interactuar con ella usando los métodos *Change_Characteristic* el que recibe como entrada el nombre de la característica y su valor, si existe la modifica sino se agrega, y el método *Delete_Characteristic* que recibe de entrada el nombre de la característica que quieres borrar y la elimina, y podemos modificar solo el valor de la característica con el método *Change_Characteristic_Value* así como acceder al mismo con el método *Get_Characteristic_Value*. Las características pueden tomar valor numérico o rangos."
   ]
  },
  {
   "cell_type": "code",
   "execution_count": 3,
   "metadata": {},
   "outputs": [
    {
     "data": {
      "text/plain": [
       "{'actual_resources': <Simulation.characteristic.Characteristic at 0x22ddca827a0>,\n",
       " 'temperature': <Simulation.characteristic.Characteristic at 0x22ddca82890>}"
      ]
     },
     "execution_count": 3,
     "metadata": {},
     "output_type": "execute_result"
    }
   ],
   "source": [
    "terreno.Change_Characteristic('actual_resources', 500)\n",
    "terreno.Change_Characteristic('fertility', 3)\n",
    "terreno.Delete_Characteristic('fertility')\n",
    "terreno.Change_Characteristic('fertility', [2,8])\n",
    "terreno.Change_Characteristic('fertility', [25,60])\n",
    "terreno.Change_Characteristic('temperature', 25)\n",
    "terreno.Delete_Characteristic('fertility')\n",
    "    \n",
    "terreno.characteristic"
   ]
  },
  {
   "cell_type": "markdown",
   "metadata": {},
   "source": [
    "Además se trabaja en el proyecto con la lista de entidades al usar dependencias que al realizarse se manda a ejecutar las funciones anteriormente mencionadas"
   ]
  },
  {
   "cell_type": "code",
   "execution_count": 4,
   "metadata": {},
   "outputs": [
    {
     "data": {
      "text/plain": [
       "({'actual_resources': <Simulation.characteristic.Characteristic at 0x22ddca827a0>,\n",
       "  'temperature': <Simulation.characteristic.Characteristic at 0x22ddca82890>,\n",
       "  'fertility': <Simulation.characteristic.Characteristic at 0x22ddca81e70>},\n",
       " [3, 9])"
      ]
     },
     "execution_count": 4,
     "metadata": {},
     "output_type": "execute_result"
    }
   ],
   "source": [
    "terreno.Change_Entities_Characteristic(\"\", \"fertility\", [3,9])\n",
    "\n",
    "(terreno.characteristic, terreno.Get_Entities_Characteristic_value('', \"fertility\"))"
   ]
  },
  {
   "cell_type": "markdown",
   "metadata": {},
   "source": [
    "### 3. Dependences e influences\n",
    "\n",
    "Un terreno puede además poseer **dependencias** o **influencias** entre las características para expresar por ejemplo como dependencias de la natalidad en la población al pasar un día, o como influye el avance médico en la esperanza de vida\n",
    "Estas dependencias e influencias son representadas con una instancia de dependence.\n",
    "\n",
    "Cada dependencia tiene por atributo los elementos elementos: posición del terreno, entidad y característica de *a*, posición del terreno, entidad y característica de *b*, índice de dependencia *c*, funciones de calcular dependencia *plus* y *mult*. \n",
    "Al pasar un dia se dice que ocurre **a -> b * c**, que se traduce a: *b += a * c*, en este caso las posiciones del terreno son las del propio terreno en que se encuentra las dependencias, y  la función de suma y multiplicaciones las cambiammos con las que tenga la dependencia  \n",
    "Si entre las características hay una que tiene de valor un rango entonces se haya random un valor dentro del rango con una función de distribución que guarda la misma característica\n",
    "\n",
    "Para el manejo de las dependencias se implemento tres métodos: *Add_Dependences* que recibe de entrada (a,b,c) y añade la dependencia a la lista, *Change_Dependences_Value* que recibe de entrada (a,b,c) y cambia el valor de c de una dependencia definida con anterioridad, *Delete_Dependences* que recibe de entrada (a,b) y elimina la dependencia de la lista. Adicionalmente uno como auxiliar **Delete_All_Specific_Dependence** para cuando eliminamos una caractgerística pues borramos todas las dependencias que contengan dicha caracterísitica. Métodos similares tiene las influencias que trabajan similares a las dependencias con la diferencias de que las mismas toman en cuenta no el valor de a sino el valor del cambio que tuvo en un día."
   ]
  },
  {
   "cell_type": "code",
   "execution_count": 5,
   "metadata": {},
   "outputs": [
    {
     "data": {
      "text/plain": [
       "([<Simulation.dependence.Dependence at 0x22ddc9de3e0>,\n",
       "  <Simulation.dependence.Dependence at 0x22ddc9de8f0>,\n",
       "  <Simulation.dependence.Dependence at 0x22ddc9de3b0>],\n",
       " [<Simulation.dependence.Dependence at 0x22ddc9de8c0>,\n",
       "  <Simulation.dependence.Dependence at 0x22ddc9de380>,\n",
       "  <Simulation.dependence.Dependence at 0x22ddc9dd510>])"
      ]
     },
     "execution_count": 5,
     "metadata": {},
     "output_type": "execute_result"
    }
   ],
   "source": [
    "terreno.Add_Dependence(\"\",'temperature',\"\", 'fertility', 3)\n",
    "terreno.Add_Dependence(\"\",'actual_resources', \"\",'actual_resources', 0.05)\n",
    "terreno.Add_Dependence(\"\",'fertility', \"\",'actual_resources', 5.5)\n",
    "terreno.Add_Dependence(\"\",'actual_resources', \"\",'fertility', 0.001)\n",
    "terreno.Change_Dependences_Value(\"\",'temperature', \"\",'fertility', -0.1)\n",
    "terreno.Delete_Dependence(\"\",'actual_resources',\"\", 'fertility')\n",
    "terreno.Add_Influences(\"\",'temperature',\"\", 'fertility', 3)\n",
    "terreno.Add_Influences(\"\",'actual_resources', \"\",'actual_resources', 0.05)\n",
    "terreno.Add_Influences(\"\",'fertility', \"\",'actual_resources', 5.5)\n",
    "terreno.Add_Influences(\"\",'actual_resources', \"\",'fertility', 0.001)\n",
    "terreno.Change_Influences_Value(\"\",'temperature', \"\",'fertility', -0.1)\n",
    "terreno.Delete_Influences(\"\",'actual_resources',\"\", 'fertility')\n",
    "\n",
    "(terreno.characteristic_dependences, terreno.characteristic_influences)"
   ]
  },
  {
   "cell_type": "markdown",
   "metadata": {},
   "source": []
  },
  {
   "cell_type": "markdown",
   "metadata": {},
   "source": [
    "### Simulación de un día\n",
    "\n",
    "Para esto existe un método llamado *Move_One_Day* que no recibe argumentos, simula un día de acuerdo a las incidencias de las **dependencias** e **influencias** en las **características**.\n",
    "Primero ejecuta todas las dependencias guardando en una lista los cambios, luego ejecuta las influencias apoyándose en dicha lista y por último actualiza los valores de las carácteristicas."
   ]
  },
  {
   "cell_type": "code",
   "execution_count": 6,
   "metadata": {},
   "outputs": [
    {
     "data": {
      "text/plain": [
       "[{'actual_resources': <Simulation.characteristic.Characteristic at 0x22ddca827a0>,\n",
       "  'temperature': <Simulation.characteristic.Characteristic at 0x22ddca82890>,\n",
       "  'fertility': <Simulation.characteristic.Characteristic at 0x22ddca81e70>},\n",
       " {'actual_resources': <Simulation.characteristic.Characteristic at 0x22ddca827a0>,\n",
       "  'temperature': <Simulation.characteristic.Characteristic at 0x22ddca82890>,\n",
       "  'fertility': <Simulation.characteristic.Characteristic at 0x22ddca81e70>},\n",
       " {'actual_resources': <Simulation.characteristic.Characteristic at 0x22ddca827a0>,\n",
       "  'temperature': <Simulation.characteristic.Characteristic at 0x22ddca82890>,\n",
       "  'fertility': <Simulation.characteristic.Characteristic at 0x22ddca81e70>},\n",
       " {'actual_resources': <Simulation.characteristic.Characteristic at 0x22ddca827a0>,\n",
       "  'temperature': <Simulation.characteristic.Characteristic at 0x22ddca82890>,\n",
       "  'fertility': <Simulation.characteristic.Characteristic at 0x22ddca81e70>},\n",
       " {'actual_resources': <Simulation.characteristic.Characteristic at 0x22ddca827a0>,\n",
       "  'temperature': <Simulation.characteristic.Characteristic at 0x22ddca82890>,\n",
       "  'fertility': <Simulation.characteristic.Characteristic at 0x22ddca81e70>},\n",
       " {'actual_resources': <Simulation.characteristic.Characteristic at 0x22ddca827a0>,\n",
       "  'temperature': <Simulation.characteristic.Characteristic at 0x22ddca82890>,\n",
       "  'fertility': <Simulation.characteristic.Characteristic at 0x22ddca81e70>},\n",
       " {'actual_resources': <Simulation.characteristic.Characteristic at 0x22ddca827a0>,\n",
       "  'temperature': <Simulation.characteristic.Characteristic at 0x22ddca82890>,\n",
       "  'fertility': <Simulation.characteristic.Characteristic at 0x22ddca81e70>},\n",
       " {'actual_resources': <Simulation.characteristic.Characteristic at 0x22ddca827a0>,\n",
       "  'temperature': <Simulation.characteristic.Characteristic at 0x22ddca82890>,\n",
       "  'fertility': <Simulation.characteristic.Characteristic at 0x22ddca81e70>},\n",
       " {'actual_resources': <Simulation.characteristic.Characteristic at 0x22ddca827a0>,\n",
       "  'temperature': <Simulation.characteristic.Characteristic at 0x22ddca82890>,\n",
       "  'fertility': <Simulation.characteristic.Characteristic at 0x22ddca81e70>},\n",
       " {'actual_resources': <Simulation.characteristic.Characteristic at 0x22ddca827a0>,\n",
       "  'temperature': <Simulation.characteristic.Characteristic at 0x22ddca82890>,\n",
       "  'fertility': <Simulation.characteristic.Characteristic at 0x22ddca81e70>},\n",
       " {'actual_resources': <Simulation.characteristic.Characteristic at 0x22ddca827a0>,\n",
       "  'temperature': <Simulation.characteristic.Characteristic at 0x22ddca82890>,\n",
       "  'fertility': <Simulation.characteristic.Characteristic at 0x22ddca81e70>}]"
      ]
     },
     "execution_count": 6,
     "metadata": {},
     "output_type": "execute_result"
    }
   ],
   "source": [
    "time_line = [terreno.characteristic.copy()]\n",
    "for i in range(10):\n",
    "    # Avanza un día la simulación\n",
    "    terreno.Move_One_Day()\n",
    "    time_line.append(terreno.characteristic.copy())\n",
    "    \n",
    "time_line"
   ]
  }
 ],
 "metadata": {
  "interpreter": {
   "hash": "fa374e4d9ba4cee2b0da1db792c0633773744d6f7f88819242cc38b688473821"
  },
  "kernelspec": {
   "display_name": "Python 3.7.4 64-bit ('base': conda)",
   "language": "python",
   "name": "python3"
  },
  "language_info": {
   "codemirror_mode": {
    "name": "ipython",
    "version": 3
   },
   "file_extension": ".py",
   "mimetype": "text/x-python",
   "name": "python",
   "nbconvert_exporter": "python",
   "pygments_lexer": "ipython3",
   "version": "3.10.0"
  },
  "orig_nbformat": 4
 },
 "nbformat": 4,
 "nbformat_minor": 2
}
