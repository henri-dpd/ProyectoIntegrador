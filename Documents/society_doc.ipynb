{
 "cells": [
  {
   "cell_type": "markdown",
   "metadata": {},
   "source": [
    "## Documentación de la clase Society\n",
    "\n",
    "Con esta clase definimos nuestra \"sociedad\", esta consta de **características**."
   ]
  },
  {
   "cell_type": "code",
   "execution_count": 1,
   "metadata": {},
   "outputs": [
    {
     "data": {
      "text/plain": [
       "{'Población': <Simulation.characteristic.Characteristic at 0x245ea9df670>}"
      ]
     },
     "execution_count": 1,
     "metadata": {},
     "output_type": "execute_result"
    }
   ],
   "source": [
    "import os\n",
    "from sys import path\n",
    "path.append(os.path.abspath(os.path.join('',os.pardir)))\n",
    "from Simulation.society import Society\n",
    "from Simulation.species import Species\n",
    "\n",
    "humanidad = Species(\"humanidad\")\n",
    "society = Society(\"cubano\", humanidad)\n",
    "\n",
    "society.characteristic"
   ]
  },
  {
   "cell_type": "markdown",
   "metadata": {},
   "source": [
    "### Características\n",
    "Un terreno posee una lista de **características** propias como pueden ser recursos actuales, capacidad, fertilidad, temperatura, altura, etc. "
   ]
  },
  {
   "cell_type": "code",
   "execution_count": 6,
   "metadata": {},
   "outputs": [
    {
     "data": {
      "text/plain": [
       "{'actual_resources': 500, 'fertility': [25, 60], 'temperature': 25}"
      ]
     },
     "execution_count": 6,
     "metadata": {},
     "output_type": "execute_result"
    }
   ],
   "source": []
  }
 ],
 "metadata": {
  "interpreter": {
   "hash": "fa374e4d9ba4cee2b0da1db792c0633773744d6f7f88819242cc38b688473821"
  },
  "kernelspec": {
   "display_name": "Python 3.7.4 64-bit ('base': conda)",
   "language": "python",
   "name": "python3"
  },
  "language_info": {
   "codemirror_mode": {
    "name": "ipython",
    "version": 3
   },
   "file_extension": ".py",
   "mimetype": "text/x-python",
   "name": "python",
   "nbconvert_exporter": "python",
   "pygments_lexer": "ipython3",
   "version": "3.10.0"
  },
  "orig_nbformat": 4
 },
 "nbformat": 4,
 "nbformat_minor": 2
}
