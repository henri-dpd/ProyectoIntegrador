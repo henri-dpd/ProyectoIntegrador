{
 "cells": [
  {
   "cell_type": "markdown",
   "metadata": {},
   "source": [
    "## Documentación de la clase Society\n",
    "\n",
    "\n",
    "Con esta clase definimos nuestra \"sociedad\", esta consta de un **nombre**, **características**, **especie**, **posición** en el terreno, y una instancia de **evolución**, además una variable para habilitar la misma.\n",
    "Evolution se explica en otro informe detalladamente."
   ]
  },
  {
   "cell_type": "code",
   "execution_count": 1,
   "metadata": {},
   "outputs": [
    {
     "data": {
      "text/plain": [
       "({'Poblacion': <Simulation.characteristic.Characteristic at 0x174707e9930>},\n",
       " <Simulation.species.Species at 0x1746fd27cd0>,\n",
       " <Simulation.evolution.Evolution at 0x174707e9960>,\n",
       " None)"
      ]
     },
     "execution_count": 1,
     "metadata": {},
     "output_type": "execute_result"
    }
   ],
   "source": [
    "import os\n",
    "from sys import path\n",
    "path.append(os.path.abspath(os.path.join('',os.pardir)))\n",
    "from Simulation.society import Society\n",
    "from Simulation.species import Species\n",
    "\n",
    "humanidad = Species(\"humanidad\")\n",
    "society = Society(\"cubano\", humanidad)\n",
    "\n",
    "(society.characteristic, society.species, society.evolution, society.pos)"
   ]
  },
  {
   "cell_type": "markdown",
   "metadata": {},
   "source": [
    "### Características\n",
    "Una sociedad posee una lista de **características** propias como pueden ser *población*(por defecto para todas las sociedades y especies), *economía*, *política*, *natalidad*, etc. \n",
    "\n",
    "Para trabajar con las mismas se tiene los métodos:\n",
    "* **Get_Characteristic_Value** : recibe el nombre de la característica y devuelve el valor de la misma\n",
    "* **Change_Characteristic** : recibe todos los argumentos para crear una característica y la añade a la lista de características.\n",
    "* **Delete_Characteristic** : recibe el nombre de la característica y la elimina de la lista de caracterísiticas.\n",
    "* **Update_Characteristic_Value** : recibe nombre y nuevo valor, actualiza solo el valor de la características"
   ]
  },
  {
   "cell_type": "code",
   "execution_count": 2,
   "metadata": {},
   "outputs": [
    {
     "data": {
      "text/plain": [
       "2"
      ]
     },
     "execution_count": 2,
     "metadata": {},
     "output_type": "execute_result"
    }
   ],
   "source": [
    "society.Change_Characteristic(\"politica\",1,0,10,3,lambda a: a*2)\n",
    "society.Delete_Characteristic(\"politica\")\n",
    "society.Change_Characteristic(\"politica\",1,0,10,3, None)\n",
    "society.Update_Characteristic_Value(\"politica\",2)\n",
    "society.Get_Characteristic_Value(\"politica\")"
   ]
  },
  {
   "cell_type": "markdown",
   "metadata": {},
   "source": [
    "Además tiene un método **Copy** que devuelve una copia de la sociedad."
   ]
  }
 ],
 "metadata": {
  "interpreter": {
   "hash": "fa374e4d9ba4cee2b0da1db792c0633773744d6f7f88819242cc38b688473821"
  },
  "kernelspec": {
   "display_name": "Python 3.7.4 64-bit ('base': conda)",
   "language": "python",
   "name": "python3"
  },
  "language_info": {
   "codemirror_mode": {
    "name": "ipython",
    "version": 3
   },
   "file_extension": ".py",
   "mimetype": "text/x-python",
   "name": "python",
   "nbconvert_exporter": "python",
   "pygments_lexer": "ipython3",
   "version": "3.10.0"
  },
  "orig_nbformat": 4
 },
 "nbformat": 4,
 "nbformat_minor": 2
}
