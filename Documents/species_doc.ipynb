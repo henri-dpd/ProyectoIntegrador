{
 "cells": [
  {
   "cell_type": "markdown",
   "metadata": {},
   "source": [
    "## Documentación de la clase Species\n",
    "\n",
    "Con esta clase definimos nuestra \"sociedad\", esta consta de un **nombre** y **características**."
   ]
  },
  {
   "cell_type": "code",
   "execution_count": 1,
   "metadata": {},
   "outputs": [
    {
     "data": {
      "text/plain": [
       "('Humano',\n",
       " {'Poblacion': {'summation': 0,\n",
       "   'mean': 0,\n",
       "   'initial': 10,\n",
       "   'lower': 0,\n",
       "   'upper': inf,\n",
       "   'mutability': -1,\n",
       "   'distr_function': None}})"
      ]
     },
     "execution_count": 1,
     "metadata": {},
     "output_type": "execute_result"
    }
   ],
   "source": [
    "import os\n",
    "from sys import path\n",
    "path.append(os.path.abspath(os.path.join('',os.pardir)))\n",
    "from Simulation.species import Species\n",
    "from Simulation.society import Society\n",
    "\n",
    "humano = Species('Humano')\n",
    "\n",
    "(humano.name, humano.characteristic)"
   ]
  },
  {
   "cell_type": "markdown",
   "metadata": {},
   "source": [
    "### Características\n",
    "\n",
    "Las caracterísiticas en especies no son instancias de la clase Characterisitic, pues no es mas que los valores que se necesitan par isntanciar una a la vez que se cree una sociedad de esta especie.\n",
    "\n",
    "Para trabajas con las características se tienen los métodos:\n",
    "* **Change_Characterisitic**: Toma todos los valores iniciales para crear una característica y los guarda en un diccionario.\n",
    "* **Change_Characterisitic_Value**: Cambia el valor inicial de la característica.\n",
    "* **Delete_Characcteristic**: Elimina la característica de la lista.\n",
    "* **Get_Characteristic_Summation**: Obtiene la sumatioria de los valores de la característica en las sociedades que pertenecen a la especie.\n",
    "* **Get_Characteristic_Mean**: Obtiene la media de los valores de la característica en las sociedades que pertenecen a la especie."
   ]
  },
  {
   "cell_type": "code",
   "execution_count": 2,
   "metadata": {},
   "outputs": [
    {
     "data": {
      "text/plain": [
       "(True, True)"
      ]
     },
     "execution_count": 2,
     "metadata": {},
     "output_type": "execute_result"
    }
   ],
   "source": [
    "humano.Change_Characteristic(\"Tamaño\", 1,0,2,0)\n",
    "\n",
    "cubano = Society(\"cubano\", humano)\n",
    "taino = Society(\"taino\", humano)\n",
    "humano.Get_Characteristic_Summation(\"Tamaño\") == 2\n",
    "humano.Get_Characteristic_Mean(\"Tamaño\") == 1\n",
    "(humano.Get_Characteristic_Summation(\"Poblacion\") == 20, humano.Get_Characteristic_Mean(\"Poblacion\") == 10 )"
   ]
  },
  {
   "cell_type": "markdown",
   "metadata": {},
   "source": [
    "Además tiene un método Copy que devuelve una copia de la instancia"
   ]
  }
 ],
 "metadata": {
  "interpreter": {
   "hash": "fa374e4d9ba4cee2b0da1db792c0633773744d6f7f88819242cc38b688473821"
  },
  "kernelspec": {
   "display_name": "Python 3.7.4 64-bit ('base': conda)",
   "language": "python",
   "name": "python3"
  },
  "language_info": {
   "codemirror_mode": {
    "name": "ipython",
    "version": 3
   },
   "file_extension": ".py",
   "mimetype": "text/x-python",
   "name": "python",
   "nbconvert_exporter": "python",
   "pygments_lexer": "ipython3",
   "version": "3.10.0"
  },
  "orig_nbformat": 4
 },
 "nbformat": 4,
 "nbformat_minor": 2
}
