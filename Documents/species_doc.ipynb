{
 "cells": [
  {
   "cell_type": "markdown",
   "metadata": {},
   "source": [
    "## Documentación de la clase Specie\n",
    "\n",
    "Con esta clase definimos nuestra specie, esta consta de un nombre, que es pasado por argumento al crear una instancia, adicionalmente tiene **características** y **dependencias**. Por defecto se crea una característica \"*population*\" con valor 1, la que puede modificarse y/o eliminar si así se desea."
   ]
  },
  {
   "cell_type": "code",
   "execution_count": 1,
   "metadata": {},
   "outputs": [
    {
     "data": {
      "text/plain": [
       "('Humano', {'population': 1}, [])"
      ]
     },
     "execution_count": 1,
     "metadata": {},
     "output_type": "execute_result"
    }
   ],
   "source": [
    "import os\n",
    "from sys import path\n",
    "path.append(os.path.abspath(os.path.join('',os.pardir)))\n",
    "from species import Species\n",
    "\n",
    "humano = Species('Humano')\n",
    "\n",
    "(humano.name, humano.characteristic, humano.characteristic_dependences)"
   ]
  },
  {
   "cell_type": "markdown",
   "metadata": {},
   "source": [
    "### Características\n",
    "Una especie posee una lista de **características** propias como pueden ser población, tamaño, natalidad, economía, etc. \n",
    "\n",
    "La misma es representada como una diccionario y se puede interactuar con ella usando los métodos *Change_Characteristic* el que recibe como entrada el nombre de la característica y su valor, si existe la modifica sino se agrega, y el método *Delete_Characteristic* que recibe de entrada el nombre de la característica que quieres borrar y la elimina. Las características pueden tomar valor numérico o rangos."
   ]
  },
  {
   "cell_type": "code",
   "execution_count": 2,
   "metadata": {},
   "outputs": [
    {
     "data": {
      "text/plain": [
       "{'population': 50, 'size': 2, 'reproduction_number': [0, 2]}"
      ]
     },
     "execution_count": 2,
     "metadata": {},
     "output_type": "execute_result"
    }
   ],
   "source": [
    "humano.Change_Characteristic('population', 50)\n",
    "humano.Change_Characteristic('size', 3)\n",
    "humano.Delete_Characteristic('size')\n",
    "humano.Change_Characteristic('size', 2)\n",
    "humano.Change_Characteristic('reproduction_number', [0,2])\n",
    "    \n",
    "humano.characteristic"
   ]
  },
  {
   "cell_type": "markdown",
   "metadata": {},
   "source": [
    "### Dependences\n",
    "\n",
    "Una especie puede además poseer **dependencias** entre las características para expresar por ejemplo como influye la natalidad en la población al pasar un día, o como influye el avance médico en la esperanza de vida\n",
    "Estas dependencias son representadas son una lista de listas.\n",
    "\n",
    "Cada dependencia es una lista de 3 elementos: característica a, característica b, c. \n",
    "Al pasar un dia se dice que ocurre **a -> b * c**, que se traduce a: *b += a * c* \n",
    "Si entre las características hay una que tiene de valor un rango entonces se haya random un valor dentro del rango\n",
    "\n",
    "Para el manejo de las dependencias se implemento tres métodos: *Add_Dependences* que recibe de entrada (a,b,c) y añade la dependencia a la lista, *Change_Dependences_Value* que recibe de entrada (a,b,c) y cambia el valor de c de una dependencia definida con anterioridad, *Delete_Dependences* que recibe de entrada (a,b) y elimina la dependencia de la lista"
   ]
  },
  {
   "cell_type": "code",
   "execution_count": 3,
   "metadata": {},
   "outputs": [
    {
     "data": {
      "text/plain": [
       "[['reproduction_number', 'population', 3], ['population', 'size', -0.001]]"
      ]
     },
     "execution_count": 3,
     "metadata": {},
     "output_type": "execute_result"
    }
   ],
   "source": [
    "humano.Add_Dependences('reproduction_number', 'population', 3)\n",
    "humano.Add_Dependences('population', 'population', 5)\n",
    "humano.Add_Dependences('population', 'size', 0.1)\n",
    "humano.Change_Dependences_Value('population', 'size', -0.001)\n",
    "humano.Delete_Dependences('population', 'population')\n",
    "\n",
    "humano.characteristic_dependences"
   ]
  },
  {
   "cell_type": "markdown",
   "metadata": {},
   "source": [
    "### Simulación de un día\n",
    "\n",
    "Para esto existe un método llamado *Move_One_Day* que no recibe argumentos, simula un día de acuerdo a las incidencias de las **dependencias** en las **características**."
   ]
  },
  {
   "cell_type": "code",
   "execution_count": 4,
   "metadata": {},
   "outputs": [
    {
     "data": {
      "text/plain": [
       "[{'population': 50, 'size': 2, 'reproduction_number': [0, 2]},\n",
       " {'population': 50, 'size': 1.95, 'reproduction_number': [0, 2]},\n",
       " {'population': 50, 'size': 1.9, 'reproduction_number': [0, 2]},\n",
       " {'population': 53, 'size': 1.847, 'reproduction_number': [0, 2]},\n",
       " {'population': 53, 'size': 1.794, 'reproduction_number': [0, 2]},\n",
       " {'population': 59, 'size': 1.735, 'reproduction_number': [0, 2]},\n",
       " {'population': 65, 'size': 1.6700000000000002, 'reproduction_number': [0, 2]},\n",
       " {'population': 71, 'size': 1.5990000000000002, 'reproduction_number': [0, 2]},\n",
       " {'population': 71, 'size': 1.5280000000000002, 'reproduction_number': [0, 2]},\n",
       " {'population': 77, 'size': 1.4510000000000003, 'reproduction_number': [0, 2]},\n",
       " {'population': 83, 'size': 1.3680000000000003, 'reproduction_number': [0, 2]}]"
      ]
     },
     "execution_count": 4,
     "metadata": {},
     "output_type": "execute_result"
    }
   ],
   "source": [
    "time_line = [humano.characteristic.copy()]\n",
    "for i in range(10):\n",
    "    # Avanza un día la simulación\n",
    "    humano.Move_One_Day()\n",
    "    time_line.append(humano.characteristic.copy())\n",
    "    \n",
    "time_line"
   ]
  }
 ],
 "metadata": {
  "interpreter": {
   "hash": "fa374e4d9ba4cee2b0da1db792c0633773744d6f7f88819242cc38b688473821"
  },
  "kernelspec": {
   "display_name": "Python 3.7.4 64-bit ('base': conda)",
   "language": "python",
   "name": "python3"
  },
  "language_info": {
   "codemirror_mode": {
    "name": "ipython",
    "version": 3
   },
   "file_extension": ".py",
   "mimetype": "text/x-python",
   "name": "python",
   "nbconvert_exporter": "python",
   "pygments_lexer": "ipython3",
   "version": "3.7.4"
  },
  "orig_nbformat": 4
 },
 "nbformat": 4,
 "nbformat_minor": 2
}
