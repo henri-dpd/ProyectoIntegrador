{
 "cells": [
  {
   "cell_type": "markdown",
   "metadata": {},
   "source": [
    "## Documentación de las clases auxiliares de la simulación\n",
    "1. Characteristic\n",
    "2. Dependence\n",
    "3. Operators"
   ]
  },
  {
   "cell_type": "markdown",
   "metadata": {},
   "source": [
    "### 1. Characteristic\n",
    "Clase donde se representan las características, esta contiene **nombre**, **valor**, **límites**, **mutabilidad** y función de distribución. Además contiene el método para modificarlos\n"
   ]
  },
  {
   "cell_type": "code",
   "execution_count": 1,
   "metadata": {},
   "outputs": [
    {
     "data": {
      "text/plain": [
       "0"
      ]
     },
     "execution_count": 1,
     "metadata": {},
     "output_type": "execute_result"
    }
   ],
   "source": [
    "import os\n",
    "from sys import path\n",
    "path.append(os.path.abspath(os.path.join('',os.pardir)))\n",
    "from Simulation.characteristic import Characteristic\n",
    "from Simulation.dependence import Dependence\n",
    "from Simulation.operators import *\n",
    "\n",
    "char = Characteristic(\"precipitacionnes\", 12, 0, 10000, 2, lambda x: x*x)\n",
    "char.Update_Characteristic_Value(-1)\n",
    "char.value"
   ]
  },
  {
   "cell_type": "markdown",
   "metadata": {},
   "source": [
    "### 2. Dependence\n",
    "clase con la que ses representada una dependencia, influencia o interdependencia. Esta tiene la posición, entidad y características que se relacionan, además de c que sería la razón con que se relacionan y las funciones de suma y multiplicación de la dependencia."
   ]
  },
  {
   "cell_type": "code",
   "execution_count": 2,
   "metadata": {},
   "outputs": [],
   "source": [
    "dep = Dependence([0,0], \"\",\"altura\",[0,0],\"atleta_no_boliviano\",\"rendimiento\",-2)"
   ]
  },
  {
   "cell_type": "markdown",
   "metadata": {},
   "source": [
    "### 3. Operators\n",
    "En este archivo guardamos todos los métodos complementarios que usamos a lo largo del proyecto, ejemplo:\n",
    "* **default_sum**\n",
    "* **default_mul**\n",
    "* **dependence**\n",
    "* **influence**\n",
    "* **distribution_default**\n",
    "\n",
    "Además de varias distribuciones que puede usar el usuario:\n",
    "* **uniform**\n",
    "* **exponential**\n",
    "* **gamma**\n",
    "* **normal**\n",
    "* **binomial**\n",
    "* **geométrica**\n"
   ]
  }
 ],
 "metadata": {
  "interpreter": {
   "hash": "fa374e4d9ba4cee2b0da1db792c0633773744d6f7f88819242cc38b688473821"
  },
  "kernelspec": {
   "display_name": "Python 3.7.4 64-bit ('base': conda)",
   "language": "python",
   "name": "python3"
  },
  "language_info": {
   "codemirror_mode": {
    "name": "ipython",
    "version": 3
   },
   "file_extension": ".py",
   "mimetype": "text/x-python",
   "name": "python",
   "nbconvert_exporter": "python",
   "pygments_lexer": "ipython3",
   "version": "3.10.0"
  },
  "orig_nbformat": 4
 },
 "nbformat": 4,
 "nbformat_minor": 2
}
