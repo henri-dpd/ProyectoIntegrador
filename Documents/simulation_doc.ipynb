{
 "cells": [
  {
   "cell_type": "markdown",
   "metadata": {},
   "source": [
    "## Documentación de la clase Simulation\n",
    "\n",
    "Con esta clase definimos nuestra \"simulación\", esta consta de **species**, **terrenos** o un mapa, **inter-dependencias**. AL inicializarse una simulación se crea un mapa que no es más que una lista de listas de terrenos, a este se le puede aplizar elmmétodo **redimention** que recibe de entrada las nuevas dimensiones del mapa"
   ]
  },
  {
   "cell_type": "code",
   "execution_count": 2,
   "metadata": {},
   "outputs": [
    {
     "data": {
      "text/plain": [
       "({},\n",
       " [],\n",
       " [[<Simulation.land.Land at 0x2670919f8b0>,\n",
       "   <Simulation.land.Land at 0x2670f53ef20>],\n",
       "  [<Simulation.land.Land at 0x2670f53eec0>,\n",
       "   <Simulation.land.Land at 0x2670f53fc10>]])"
      ]
     },
     "execution_count": 2,
     "metadata": {},
     "output_type": "execute_result"
    }
   ],
   "source": [
    "import os\n",
    "from sys import path\n",
    "path.append(os.path.abspath(os.path.join('',os.pardir)))\n",
    "from Simulation.simulation import Simulation\n",
    "from Simulation.species import Species\n",
    "\n",
    "simulacion = Simulation(3,3)\n",
    "simulacion.Re_Dimention_Map(2,2)\n",
    "\n",
    "(simulacion.actual_species, simulacion.inter_dependences, simulacion.map)"
   ]
  },
  {
   "cell_type": "markdown",
   "metadata": {},
   "source": [
    "### Species\n",
    "\n",
    "Se tiene guardado un diccionario de especies donde la llave es un string del nombre de la especie y el valor es la instancia.\n",
    "\n",
    "Para trabajas con las mismas existen los métodos:\n",
    "* **Add_Species**: Crea y añade una especie a la lista species\n",
    "* **Delete_Species**: Elimina una especie de la lista species\n",
    "* **Change_Species_Characteristic**: Añade o cambia el valor de una característia en una especie\n",
    "* **Delete_Species_Characteristic**: elimina una caracteristica de una especie"
   ]
  },
  {
   "cell_type": "code",
   "execution_count": null,
   "metadata": {},
   "outputs": [],
   "source": [
    "sim.Add_Species('Humano')\n",
    "sim.Add_Species('Marciano')\n",
    "sim.Delete_Species('Marciano')"
   ]
  },
  {
   "cell_type": "markdown",
   "metadata": {},
   "source": [
    "### Map\n",
    "\n",
    "Map, como anetriormente fue mencionado, no es más que una matriz de terrenos, para acceder y trabajar con los terrenos que este contiene se implementarosn los métodos:\n",
    "* **Change_Land_Characteristic**\n",
    "* **Delete_Land_Characteristic**\n",
    "* **Update_Land_Characteristic_Value**\n",
    "* **Add_Land_Dependences**\n",
    "* **Delete_Land_Dependences**\n",
    "* **Change_Land_Dependences_Value**\n",
    "* **Add_Land_Influences**\n",
    "* **Delete_Land_Influences**\n",
    "* **Change_Land_Influences_Value**\n",
    "\n",
    "y para trabajar con las sociedades de los terrenos del mapa se implementan los métodos:\n",
    "* **Change_Society_Characteristic**\n",
    "* **Delete_Society_Characteristic**\n",
    "* **Update_Society_Characteristic_Value**\n",
    "* **Add_Society**\n",
    "* **Delete_Society**\n",
    "Para cada uno de estos métodos se reciben parámetros q¡necesarios para ejecutar métodos de igual nombre en los terrenos o sociedades y se ejecutan\n",
    "\n",
    "Por último se tienen las interdependencias que nos son más que dependecias entre dos entidades de terrenos diferentes, para el trabajo con las mismas se puede usar:\n",
    "* **Add_Inter_Dependences**: Recibe posición, entidad y características de las dos características relacionadas seguido de un valor c y las funciones de suma y multiplicación y añade la dependencia a la lista inter_dependences\n",
    "* **Delete_Inter_Dependences**: Recibe posición, entidad y características de las dos características relacionadas y elimina la dependencia a la lista inter_dependences\n",
    "* **Change_Inter_Dependences_Value**: Recibe posición, entidad y características de las dos características relacionadas y cambia su valor.\n"
   ]
  },
  {
   "cell_type": "code",
   "execution_count": 7,
   "metadata": {},
   "outputs": [
    {
     "data": {
      "text/plain": [
       "[['temperature', 'fertility', -0.1],\n",
       " ['actual_resources', 'actual_resources', 0.05],\n",
       " ['fertility', 'actual_resources', 5.5]]"
      ]
     },
     "execution_count": 7,
     "metadata": {},
     "output_type": "execute_result"
    }
   ],
   "source": [
    "simulation.Add_Society(0,0,\"habanero\",\"Humano\")\n",
    "simulation.Add_Society(1,0,\"pinareño\",\"Humano\")\n",
    "simulation.Add_Inter_Dependence([0,0],\"habanero\",\"Poblacion\",[1,0],\"pinareño\",\"Poblacion\",10)"
   ]
  },
  {
   "cell_type": "markdown",
   "metadata": {},
   "source": [
    "### Simulación de un día\n",
    "\n",
    "Para avanzar un día en la simulación se tiene el método **Move_One_Day_All** que lo que hace es mover un día en cada terreno, seguidamente por cada interdependecia.\n",
    "\n",
    "Para ello no se hace más que por cada *dependencia*, *influencia*, *interdependencia* ejecuta apollándonos en las funciones de distribución de cada caracterísitica, y las funciones de suma y multiplicación de cada dependencia para calcular los resultados."
   ]
  },
  {
   "cell_type": "code",
   "execution_count": 8,
   "metadata": {},
   "outputs": [
    {
     "data": {
      "text/plain": [
       "[{'actual_resources': 500, 'fertility': [25, 60], 'temperature': 25},\n",
       " {'actual_resources': 844.0, 'fertility': [22.5, 57.5], 'temperature': 25},\n",
       " {'actual_resources': 1172.2, 'fertility': [20.0, 55.0], 'temperature': 25},\n",
       " {'actual_resources': 1368.31, 'fertility': [17.5, 52.5], 'temperature': 25},\n",
       " {'actual_resources': 1552.2255, 'fertility': [15.0, 50.0], 'temperature': 25},\n",
       " {'actual_resources': 1723.336775,\n",
       "  'fertility': [12.5, 47.5],\n",
       "  'temperature': 25},\n",
       " {'actual_resources': 1875.50361375,\n",
       "  'fertility': [10.0, 45.0],\n",
       "  'temperature': 25},\n",
       " {'actual_resources': 2035.2787944375002,\n",
       "  'fertility': [7.5, 42.5],\n",
       "  'temperature': 25},\n",
       " {'actual_resources': 2269.0427341593754,\n",
       "  'fertility': [5.0, 40.0],\n",
       "  'temperature': 25},\n",
       " {'actual_resources': 2464.994870867344,\n",
       "  'fertility': [2.5, 37.5],\n",
       "  'temperature': 25},\n",
       " {'actual_resources': 2626.744614410711,\n",
       "  'fertility': [0.0, 35.0],\n",
       "  'temperature': 25}]"
      ]
     },
     "execution_count": 8,
     "metadata": {},
     "output_type": "execute_result"
    }
   ],
   "source": [
    "simulation.Move_One_Day_All()"
   ]
  }
 ],
 "metadata": {
  "interpreter": {
   "hash": "fa374e4d9ba4cee2b0da1db792c0633773744d6f7f88819242cc38b688473821"
  },
  "kernelspec": {
   "display_name": "Python 3.7.4 64-bit ('base': conda)",
   "language": "python",
   "name": "python3"
  },
  "language_info": {
   "codemirror_mode": {
    "name": "ipython",
    "version": 3
   },
   "file_extension": ".py",
   "mimetype": "text/x-python",
   "name": "python",
   "nbconvert_exporter": "python",
   "pygments_lexer": "ipython3",
   "version": "3.10.0"
  },
  "orig_nbformat": 4
 },
 "nbformat": 4,
 "nbformat_minor": 2
}