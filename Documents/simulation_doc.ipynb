{
 "cells": [
  {
   "cell_type": "markdown",
   "metadata": {},
   "source": [
    "## Documentación de la clase Simulation\n",
    "\n",
    "Con esta clase definimos nuestra \"simulación\", esta consta de **species**, **terrenos** o un mapa, **inter-dependencias**."
   ]
  },
  {
   "cell_type": "code",
   "execution_count": 2,
   "metadata": {},
   "outputs": [
    {
     "data": {
      "text/plain": [
       "({},\n",
       " [],\n",
       " [[<Simulation.land.Land at 0x2670919f8b0>,\n",
       "   <Simulation.land.Land at 0x2670f53ef20>],\n",
       "  [<Simulation.land.Land at 0x2670f53eec0>,\n",
       "   <Simulation.land.Land at 0x2670f53fc10>]])"
      ]
     },
     "execution_count": 2,
     "metadata": {},
     "output_type": "execute_result"
    }
   ],
   "source": [
    "import os\n",
    "from sys import path\n",
    "path.append(os.path.abspath(os.path.join('',os.pardir)))\n",
    "from Simulation.simulation import Simulation\n",
    "\n",
    "simulacion = Simulation(2,2)\n",
    "\n",
    "(simulacion.actual_species, simulacion.inter_dependences, simulacion.map)"
   ]
  },
  {
   "cell_type": "markdown",
   "metadata": {},
   "source": [
    "### Species"
   ]
  },
  {
   "cell_type": "code",
   "execution_count": 6,
   "metadata": {},
   "outputs": [
    {
     "data": {
      "text/plain": [
       "{'actual_resources': 500, 'fertility': [25, 60], 'temperature': 25}"
      ]
     },
     "execution_count": 6,
     "metadata": {},
     "output_type": "execute_result"
    }
   ],
   "source": []
  },
  {
   "cell_type": "markdown",
   "metadata": {},
   "source": [
    "### Map\n"
   ]
  },
  {
   "cell_type": "code",
   "execution_count": 7,
   "metadata": {},
   "outputs": [
    {
     "data": {
      "text/plain": [
       "[['temperature', 'fertility', -0.1],\n",
       " ['actual_resources', 'actual_resources', 0.05],\n",
       " ['fertility', 'actual_resources', 5.5]]"
      ]
     },
     "execution_count": 7,
     "metadata": {},
     "output_type": "execute_result"
    }
   ],
   "source": []
  },
  {
   "cell_type": "markdown",
   "metadata": {},
   "source": [
    "### Simulación de un día\n"
   ]
  },
  {
   "cell_type": "code",
   "execution_count": 8,
   "metadata": {},
   "outputs": [
    {
     "data": {
      "text/plain": [
       "[{'actual_resources': 500, 'fertility': [25, 60], 'temperature': 25},\n",
       " {'actual_resources': 844.0, 'fertility': [22.5, 57.5], 'temperature': 25},\n",
       " {'actual_resources': 1172.2, 'fertility': [20.0, 55.0], 'temperature': 25},\n",
       " {'actual_resources': 1368.31, 'fertility': [17.5, 52.5], 'temperature': 25},\n",
       " {'actual_resources': 1552.2255, 'fertility': [15.0, 50.0], 'temperature': 25},\n",
       " {'actual_resources': 1723.336775,\n",
       "  'fertility': [12.5, 47.5],\n",
       "  'temperature': 25},\n",
       " {'actual_resources': 1875.50361375,\n",
       "  'fertility': [10.0, 45.0],\n",
       "  'temperature': 25},\n",
       " {'actual_resources': 2035.2787944375002,\n",
       "  'fertility': [7.5, 42.5],\n",
       "  'temperature': 25},\n",
       " {'actual_resources': 2269.0427341593754,\n",
       "  'fertility': [5.0, 40.0],\n",
       "  'temperature': 25},\n",
       " {'actual_resources': 2464.994870867344,\n",
       "  'fertility': [2.5, 37.5],\n",
       "  'temperature': 25},\n",
       " {'actual_resources': 2626.744614410711,\n",
       "  'fertility': [0.0, 35.0],\n",
       "  'temperature': 25}]"
      ]
     },
     "execution_count": 8,
     "metadata": {},
     "output_type": "execute_result"
    }
   ],
   "source": []
  }
 ],
 "metadata": {
  "interpreter": {
   "hash": "fa374e4d9ba4cee2b0da1db792c0633773744d6f7f88819242cc38b688473821"
  },
  "kernelspec": {
   "display_name": "Python 3.7.4 64-bit ('base': conda)",
   "language": "python",
   "name": "python3"
  },
  "language_info": {
   "codemirror_mode": {
    "name": "ipython",
    "version": 3
   },
   "file_extension": ".py",
   "mimetype": "text/x-python",
   "name": "python",
   "nbconvert_exporter": "python",
   "pygments_lexer": "ipython3",
   "version": "3.10.0"
  },
  "orig_nbformat": 4
 },
 "nbformat": 4,
 "nbformat_minor": 2
}
