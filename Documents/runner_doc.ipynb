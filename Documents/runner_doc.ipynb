{
 "cells": [
  {
   "cell_type": "markdown",
   "metadata": {},
   "source": [
    "## Runner\n",
    "\n",
    "El runner es un paso intermedio entre el simulation que se encuentra visible en el lenguaje definido para el usuario, y el Simulation que trabaja por detrás de eso con los datos. Básicamente podemos apreciar todas las funciones que son recogidas en el type_checker, y que son recibidas con sus parámetros, analizados para evitar errores innecesarios y aletar al usuario de esto (errores que son por norma general en tiempo de ejecución), y luego modificar las entradas y preparar estos datos para mandárselos a Simulation y que ahí sean debidamente procesados, puesto que la información que es enviada a Simulation es siempre una copia de la información que el usuario utiliza en el lenguaje, debido al manejo de referencias de Python\n",
    "\n",
    "La idea de esto es que sea utilizado en el main para cargar dinámicamente el código Python transpilado, y que haya una existencia de las funciones del lenguaje a la hora de ser invocadas."
   ]
  }
 ],
 "metadata": {
  "interpreter": {
   "hash": "fa374e4d9ba4cee2b0da1db792c0633773744d6f7f88819242cc38b688473821"
  },
  "kernelspec": {
   "display_name": "Python 3.7.4 64-bit ('base': conda)",
   "language": "python",
   "name": "python3"
  },
  "language_info": {
   "codemirror_mode": {
    "name": "ipython",
    "version": 3
   },
   "file_extension": ".py",
   "mimetype": "text/x-python",
   "name": "python",
   "nbconvert_exporter": "python",
   "pygments_lexer": "ipython3",
   "version": "3.10.0"
  },
  "orig_nbformat": 4
 },
 "nbformat": 4,
 "nbformat_minor": 2
}
